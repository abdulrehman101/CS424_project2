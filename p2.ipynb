{
 "cells": [
  {
   "cell_type": "code",
   "execution_count": 1,
   "metadata": {},
   "outputs": [],
   "source": [
    "atlantic <- read.csv(file=\"atlantic.csv\",sep=\",\",header = FALSE)"
   ]
  },
  {
   "cell_type": "code",
   "execution_count": 16,
   "metadata": {},
   "outputs": [
    {
     "data": {
      "text/html": [
       "<table>\n",
       "<thead><tr><th scope=col>V1</th><th scope=col>V2</th><th scope=col>V3</th><th scope=col>V4</th><th scope=col>V5</th><th scope=col>V6</th><th scope=col>V7</th><th scope=col>V8</th><th scope=col>V9</th><th scope=col>V10</th><th scope=col>...</th><th scope=col>V12</th><th scope=col>V13</th><th scope=col>V14</th><th scope=col>V15</th><th scope=col>V16</th><th scope=col>V17</th><th scope=col>V18</th><th scope=col>V19</th><th scope=col>V20</th><th scope=col>V21</th></tr></thead>\n",
       "<tbody>\n",
       "\t<tr><td>AL011851           </td><td>            UNNAMED</td><td>     14            </td><td>                   </td><td>                   </td><td>                   </td><td>NA                 </td><td>  NA               </td><td>  NA               </td><td>  NA               </td><td>...                </td><td>  NA               </td><td>  NA               </td><td>  NA               </td><td>  NA               </td><td>  NA               </td><td>  NA               </td><td>  NA               </td><td>  NA               </td><td>  NA               </td><td>NA                 </td></tr>\n",
       "\t<tr><td>18510625           </td><td> 0000              </td><td>                   </td><td> HU                </td><td> 28.0N             </td><td>  94.8W            </td><td>80                 </td><td>-999               </td><td>-999               </td><td>-999               </td><td>...                </td><td>-999               </td><td>-999               </td><td>-999               </td><td>-999               </td><td>-999               </td><td>-999               </td><td>-999               </td><td>-999               </td><td>-999               </td><td>NA                 </td></tr>\n",
       "\t<tr><td>18510625           </td><td> 0600              </td><td>                   </td><td> HU                </td><td> 28.0N             </td><td>  95.4W            </td><td>80                 </td><td>-999               </td><td>-999               </td><td>-999               </td><td>...                </td><td>-999               </td><td>-999               </td><td>-999               </td><td>-999               </td><td>-999               </td><td>-999               </td><td>-999               </td><td>-999               </td><td>-999               </td><td>NA                 </td></tr>\n",
       "\t<tr><td>18510625           </td><td> 1200              </td><td>                   </td><td> HU                </td><td> 28.0N             </td><td>  96.0W            </td><td>80                 </td><td>-999               </td><td>-999               </td><td>-999               </td><td>...                </td><td>-999               </td><td>-999               </td><td>-999               </td><td>-999               </td><td>-999               </td><td>-999               </td><td>-999               </td><td>-999               </td><td>-999               </td><td>NA                 </td></tr>\n",
       "\t<tr><td>18510625           </td><td> 1800              </td><td>                   </td><td> HU                </td><td> 28.1N             </td><td>  96.5W            </td><td>80                 </td><td>-999               </td><td>-999               </td><td>-999               </td><td>...                </td><td>-999               </td><td>-999               </td><td>-999               </td><td>-999               </td><td>-999               </td><td>-999               </td><td>-999               </td><td>-999               </td><td>-999               </td><td>NA                 </td></tr>\n",
       "</tbody>\n",
       "</table>\n"
      ],
      "text/latex": [
       "\\begin{tabular}{r|lllllllllllllllllllll}\n",
       " V1 & V2 & V3 & V4 & V5 & V6 & V7 & V8 & V9 & V10 & ... & V12 & V13 & V14 & V15 & V16 & V17 & V18 & V19 & V20 & V21\\\\\n",
       "\\hline\n",
       "\t AL011851            &             UNNAMED &      14             &                     &                     &                     & NA                  &   NA                &   NA                &   NA                & ...                 &   NA                &   NA                &   NA                &   NA                &   NA                &   NA                &   NA                &   NA                &   NA                & NA                 \\\\\n",
       "\t 18510625            &  0000               &                     &  HU                 &  28.0N              &   94.8W             & 80                  & -999                & -999                & -999                & ...                 & -999                & -999                & -999                & -999                & -999                & -999                & -999                & -999                & -999                & NA                 \\\\\n",
       "\t 18510625            &  0600               &                     &  HU                 &  28.0N              &   95.4W             & 80                  & -999                & -999                & -999                & ...                 & -999                & -999                & -999                & -999                & -999                & -999                & -999                & -999                & -999                & NA                 \\\\\n",
       "\t 18510625            &  1200               &                     &  HU                 &  28.0N              &   96.0W             & 80                  & -999                & -999                & -999                & ...                 & -999                & -999                & -999                & -999                & -999                & -999                & -999                & -999                & -999                & NA                 \\\\\n",
       "\t 18510625            &  1800               &                     &  HU                 &  28.1N              &   96.5W             & 80                  & -999                & -999                & -999                & ...                 & -999                & -999                & -999                & -999                & -999                & -999                & -999                & -999                & -999                & NA                 \\\\\n",
       "\\end{tabular}\n"
      ],
      "text/markdown": [
       "\n",
       "| V1 | V2 | V3 | V4 | V5 | V6 | V7 | V8 | V9 | V10 | ... | V12 | V13 | V14 | V15 | V16 | V17 | V18 | V19 | V20 | V21 |\n",
       "|---|---|---|---|---|---|---|---|---|---|---|---|---|---|---|---|---|---|---|---|---|\n",
       "| AL011851            |             UNNAMED |      14             |                     |                     |                     | NA                  |   NA                |   NA                |   NA                | ...                 |   NA                |   NA                |   NA                |   NA                |   NA                |   NA                |   NA                |   NA                |   NA                | NA                  |\n",
       "| 18510625            |  0000               |                     |  HU                 |  28.0N              |   94.8W             | 80                  | -999                | -999                | -999                | ...                 | -999                | -999                | -999                | -999                | -999                | -999                | -999                | -999                | -999                | NA                  |\n",
       "| 18510625            |  0600               |                     |  HU                 |  28.0N              |   95.4W             | 80                  | -999                | -999                | -999                | ...                 | -999                | -999                | -999                | -999                | -999                | -999                | -999                | -999                | -999                | NA                  |\n",
       "| 18510625            |  1200               |                     |  HU                 |  28.0N              |   96.0W             | 80                  | -999                | -999                | -999                | ...                 | -999                | -999                | -999                | -999                | -999                | -999                | -999                | -999                | -999                | NA                  |\n",
       "| 18510625            |  1800               |                     |  HU                 |  28.1N              |   96.5W             | 80                  | -999                | -999                | -999                | ...                 | -999                | -999                | -999                | -999                | -999                | -999                | -999                | -999                | -999                | NA                  |\n",
       "\n"
      ],
      "text/plain": [
       "  V1       V2                  V3      V4  V5     V6      V7 V8   V9   V10  ...\n",
       "1 AL011851             UNNAMED      14                    NA   NA   NA   NA ...\n",
       "2 18510625  0000                        HU  28.0N   94.8W 80 -999 -999 -999 ...\n",
       "3 18510625  0600                        HU  28.0N   95.4W 80 -999 -999 -999 ...\n",
       "4 18510625  1200                        HU  28.0N   96.0W 80 -999 -999 -999 ...\n",
       "5 18510625  1800                        HU  28.1N   96.5W 80 -999 -999 -999 ...\n",
       "  V12  V13  V14  V15  V16  V17  V18  V19  V20  V21\n",
       "1   NA   NA   NA   NA   NA   NA   NA   NA   NA NA \n",
       "2 -999 -999 -999 -999 -999 -999 -999 -999 -999 NA \n",
       "3 -999 -999 -999 -999 -999 -999 -999 -999 -999 NA \n",
       "4 -999 -999 -999 -999 -999 -999 -999 -999 -999 NA \n",
       "5 -999 -999 -999 -999 -999 -999 -999 -999 -999 NA "
      ]
     },
     "metadata": {},
     "output_type": "display_data"
    }
   ],
   "source": [
    "atlantic[1:5,1:21]"
   ]
  },
  {
   "cell_type": "code",
   "execution_count": 84,
   "metadata": {},
   "outputs": [],
   "source": [
    "new <- as.data.frame(atlantic[1:5,1],col.names = c(\"asd\",\"as\"))"
   ]
  },
  {
   "cell_type": "code",
   "execution_count": 85,
   "metadata": {},
   "outputs": [
    {
     "data": {
      "text/html": [
       "<table>\n",
       "<thead><tr><th scope=col>atlantic[1:5, 1]</th></tr></thead>\n",
       "<tbody>\n",
       "\t<tr><td>AL011851</td></tr>\n",
       "\t<tr><td>18510625</td></tr>\n",
       "\t<tr><td>18510625</td></tr>\n",
       "\t<tr><td>18510625</td></tr>\n",
       "\t<tr><td>18510625</td></tr>\n",
       "</tbody>\n",
       "</table>\n"
      ],
      "text/latex": [
       "\\begin{tabular}{r|l}\n",
       " atlantic{[}1:5, 1{]}\\\\\n",
       "\\hline\n",
       "\t AL011851\\\\\n",
       "\t 18510625\\\\\n",
       "\t 18510625\\\\\n",
       "\t 18510625\\\\\n",
       "\t 18510625\\\\\n",
       "\\end{tabular}\n"
      ],
      "text/markdown": [
       "\n",
       "| atlantic[1:5, 1] |\n",
       "|---|\n",
       "| AL011851 |\n",
       "| 18510625 |\n",
       "| 18510625 |\n",
       "| 18510625 |\n",
       "| 18510625 |\n",
       "\n"
      ],
      "text/plain": [
       "  atlantic[1:5, 1]\n",
       "1 AL011851        \n",
       "2 18510625        \n",
       "3 18510625        \n",
       "4 18510625        \n",
       "5 18510625        "
      ]
     },
     "metadata": {},
     "output_type": "display_data"
    }
   ],
   "source": [
    "new"
   ]
  }
 ],
 "metadata": {
  "kernelspec": {
   "display_name": "R",
   "language": "R",
   "name": "ir"
  },
  "language_info": {
   "codemirror_mode": "r",
   "file_extension": ".r",
   "mimetype": "text/x-r-source",
   "name": "R",
   "pygments_lexer": "r",
   "version": "3.6.1"
  }
 },
 "nbformat": 4,
 "nbformat_minor": 2
}
